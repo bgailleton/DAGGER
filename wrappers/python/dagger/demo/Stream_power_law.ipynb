{
	"cells": [
  {
   "cell_type": "markdown",
   "id": "b03e2ab1-5a42-4a0a-b5aa-68d5b83f71cf",
   "metadata": {},
   "source": [
    "# Implementing a simple stream power law with `DAGGER`\n",
    "\n",
    "This notebook assumes you are comfortable with the basics of `DAGGER` (what is a DAG, a graph, a connector, ...). \n",
    "   \n",
    "In this tutorial we will implement a simple explicit solver for the simplest expression of the Stream Power Law (Howard and Kerby, 1983). It simply describe the evolution of topography through time with an advective power law equation linking drainage area, Slope and local condictions (climate, lithology, ...).\n",
    "\n",
    "First let's import what we need and generate an initial landscape with white noise.\n"
   ]
  },
  {
   "cell_type": "code",
   "execution_count": null,
   "id": "5d330fb8-eebc-441f-bb92-efb8d537a80a",
   "metadata": {
    "tags": []
   },
   "outputs": [],
   "source": [
    "import dagger as dag\n",
    "from helper import load_raster\n",
    "import matplotlib.pyplot as plt\n",
    "import numpy as np\n",
    "import time\n",
    "# The following line is a jupyter lab command telling it to use the interactive widget ipympl for matplotlib\n",
    "%matplotlib widget"
   ]
  },
  {
   "cell_type": "markdown",
   "id": "74ab96f2-d0c9-4347-ad0c-cdc82de418f6",
   "metadata": {},
   "source": [
    "## Generate initial conditions\n",
    "\n",
    "To generate initial conditions we simply need the dimension and resolution of the landscape:"
   ]
  },
  {
   "cell_type": "code",
   "execution_count": null,
   "id": "0c0c3d1b-6ab7-4ee1-afae-a4bfc2b79d02",
   "metadata": {},
   "outputs": [],
   "source": [
    "# number of nodes in the X/Y directions\n",
    "nx,ny = 200,200\n",
    "# Resolution in the X/Y directions\n",
    "dx,dy = 200,200\n",
    "# generating hte white noise\n",
    "topo = np.random.rand(ny*nx)+5"
   ]
  },
  {
   "cell_type": "markdown",
   "id": "9735fb5d-1429-485a-bc0c-bdf14604bc97",
   "metadata": {},
   "source": [
    "We can then create the connector and the graph:"
   ]
  },
  {
   "cell_type": "code",
   "execution_count": null,
   "id": "181a1f95-c1c8-48a3-8d88-de86f2633cfe",
   "metadata": {},
   "outputs": [],
   "source": [
    "con = dag.D8N(nx, ny, dx, dy, 0, 0)\n",
    "gf = dag.graph(nx * ny, 8)\n",
    "gf.init_graph(con)"
   ]
  },
  {
   "cell_type": "markdown",
   "id": "c3e53aa7-8164-42f9-902c-28c1a2108432",
   "metadata": {},
   "source": [
    "Now we can focus on the stream power law and its resolution. The driving equation is:\n",
    "\n",
    "\\begin{equation}\n",
    "\\frac{dz}{dx} = U(x) -  K(x) (\\frac{dz}{dx})^n A(x)^m\n",
    "\\end{equation}\n",
    "\n",
    "- `U` is the surface uplift and for simplicity we give it a fixed value\n",
    "- `m` and `n` are exponents which values are widely debated but linked to the erosional/hydraulic processes\n",
    "- `K` is the erodability and represent rock strength, climate, .... Again we consider a single value but one could eventually use a spatially varying one to simulate multiple rock types\n",
    "- `dt` is the time step, because we are solving the model explicitly, high values can make the model unstable (it's highly function of all the other parameters) and we will present an implicit alternative later, as it leverages even more aspects of `DAGGER`.\n",
    "\n",
    "Here We provide common ranges of parameters."
   ]
  },
  {
   "cell_type": "code",
   "execution_count": null,
   "id": "e579a585-31a4-4e15-a1da-95298068ab84",
   "metadata": {},
   "outputs": [],
   "source": [
    "# SPL exponents\n",
    "m,n = 0.45,1\n",
    "# Erodability\n",
    "K = 2e-4\n",
    "# Surface uplift\n",
    "U = 0.8e-3\n",
    "# timestep\n",
    "dt = 1000\n",
    "# ndt = number of time steps\n",
    "ndt = 500"
   ]
  },
  {
   "cell_type": "markdown",
   "id": "e361896b-e47a-4e9b-adbb-32281fb358c7",
   "metadata": {},
   "source": [
    "## Running the model\n",
    "\n",
    "Apart from the above parameters that are externally given to the equation, we need to calculate (i) drainage area (A) and (ii) the topographic Slope. This can be tedious to do manually, but thanks to `DAGGER` the workflow is quite straightforward:\n",
    "\n",
    "1) Compute the graph to update the receivers/donors - Here we only need Single flow graph using `gf.compute_graph`\n",
    "2) Compute the drainage area with `accumulate_constant_downstream_SFD`\n",
    "3) Compute the Slope using the Single flow receivers (`get_SFD_receivers`) and the distance to receivers (`get_SFD_dx`)\n",
    "4) Calculating and applying the changes in `dz`\n",
    "5) Back to 1.\n",
    "\n",
    "### Scenario I: no local minima solver\n",
    "\n",
    "We will start with a simple scenario where we turn off local minima solver. The topography evolves slowly and gradually without jumps in drainage area, keeping hte weak explicit scheme stable.\n",
    "\n",
    "\n",
    "(we will update the topographic plot live)"
   ]
  },
  {
   "cell_type": "code",
   "execution_count": null,
   "id": "30a051f9-5fe4-4780-9cd4-aefda7d61a8d",
   "metadata": {},
   "outputs": [],
   "source": [
    "fig,ax = plt.subplots()\n",
    "im = ax.imshow(topo.reshape(ny,nx), cmap = \"gist_earth\")"
   ]
  },
  {
   "cell_type": "code",
   "execution_count": null,
   "id": "9be0f042-b71c-4b1c-befc-8033be86082e",
   "metadata": {
    "tags": []
   },
   "outputs": [],
   "source": [
    "for i in range(ndt):\n",
    "    # print(i)\n",
    "    gf.set_LMR_method(dag.LMR.none)\n",
    "    gf.compute_graph(topo, con, True, True)\n",
    "    A = gf.accumulate_constant_downstream_SFD(con, 900)\n",
    "    Srec = gf.get_SFD_receivers()\n",
    "    Sdist = gf.get_SFD_dx()\n",
    "    Sdist[Sdist <= 0] = 1e3\n",
    "    S = (topo - topo[Srec]) / Sdist\n",
    "    S[S<1e-6] = 1e-6\n",
    "    E = np.power(S,n) * np.power(A,m) * K\n",
    "    topo = topo - (E - U) * dt\n",
    "    topo = topo.reshape(ny,nx)\n",
    "    topo[[0,-1],:] = 0\n",
    "    topo[:,[0,-1]] = 0\n",
    "    topo[np.isfinite(topo) == False] = 0\n",
    "    if(i%20 == 0):\n",
    "        im = ax.imshow(topo.reshape(ny,nx), cmap = \"gist_earth\")\n",
    "        fig.canvas.draw()\n",
    "    topo = topo.reshape(ny*nx)\n",
    "    "
   ]
  },
  {
   "cell_type": "markdown",
   "id": "bfebdcca-ca9e-480e-b4b4-0695a40eb6a6",
   "metadata": {},
   "source": [
    "## Scenario II: Local minima solver\n",
    "\n",
    "The above scenario shows very geometrical geomoetries. this is mostly because the initial random noise does not precondition any flow and the edges gradually \"eat\" their way toward the inside. One way to bypass that and create more realistic rivers is to solve the local minima simulating fow path as if all depression were drained. `Dagger` offers a variety of ways to do so (see dedicated notebook). \n",
    "\n",
    "However, this makes the model start with a huge drainage area and we need to reduce the `dt` to keep the scheme stable - too much erosion create numerical divergence. We will address that later. \n",
    "\n",
    "Note how the rivers for more natural paths and more importantly more rapidely."
   ]
  },
  {
   "cell_type": "code",
   "execution_count": null,
   "id": "725acd4d-93be-4daf-92e4-c4613cda8626",
   "metadata": {},
   "outputs": [],
   "source": [
    "# number of nodes in the X/Y directions\n",
    "nx,ny = 200,200\n",
    "# Resolution in the X/Y directions\n",
    "dx,dy = 200,200\n",
    "# generating hte white noise\n",
    "topo = np.random.rand(ny*nx)+5\n",
    "\n",
    "con = dag.D8N(nx, ny, dx, dy, 0, 0)\n",
    "gf = dag.graph(nx * ny, 8)\n",
    "gf.init_graph(con)\n",
    "\n",
    "# SPL exponents\n",
    "m,n = 0.45,1\n",
    "# Erodability\n",
    "K = 2e-4\n",
    "# Surface uplift\n",
    "U = 0.8e-3\n",
    "# timestep\n",
    "dt = 500\n",
    "# ndt = number of time steps\n",
    "ndt = 500\n",
    "\n",
    "fig,ax = plt.subplots()\n",
    "im = ax.imshow(topo.reshape(ny,nx), cmap = \"gist_earth\")"
   ]
  },
  {
   "cell_type": "code",
   "execution_count": null,
   "id": "23874efe-2894-4b4e-a6f9-45aa3096f37b",
   "metadata": {
    "tags": []
   },
   "outputs": [],
   "source": [
    "for i in range(ndt):\n",
    "    gf.set_LMR_method(dag.LMR.cordonnier_carve)\n",
    "    gf.compute_graph(topo, con, True, True)\n",
    "    A = gf.accumulate_constant_downstream_SFD(con, 900)\n",
    "    Srec = gf.get_SFD_receivers()\n",
    "    Sdist = gf.get_SFD_dx()\n",
    "    Sdist[Sdist <= 0] = 1e3\n",
    "    S = (topo - topo[Srec]) / Sdist\n",
    "    S[S<1e-6] = 1e-6\n",
    "    E = np.power(S,n) * np.power(A,m) * K\n",
    "    topo = topo - (E - U) * dt\n",
    "    topo = topo.reshape(ny,nx)\n",
    "    topo[[0,-1],:] = 0\n",
    "    topo[:,[0,-1]] = 0\n",
    "    topo[np.isfinite(topo) == False] = 0\n",
    "    if(i%20 == 0):\n",
    "        im = ax.imshow(topo.reshape(ny,nx), cmap = \"gist_earth\")\n",
    "        fig.canvas.draw()\n",
    "    topo = topo.reshape(ny*nx)"
   ]
  },
  {
   "cell_type": "markdown",
   "id": "9f41def3-da49-4f4f-a1e2-aec106c7c6a1",
   "metadata": {},
   "source": [
    "If you play with all the parameters, you can quickly see that the model becomes rapidly unstable if:\n",
    "\n",
    "- we increase K/m/n \n",
    "- increase the domain size\n",
    "- reduce resolution\n",
    "\n",
    "This is due to the Courant conditions that are inherent to explicit formulation. While in a lot of situation it is not possible/worth it to bypass this problem, the basic version of the stream power equation has very elegant implicit schemes (therefore unconditionally stable).\n",
    "\n",
    "## Solving the SPL implicitely \n",
    "\n",
    "We will use the formulation of Braun and Willett (2013). Long story short it assumes a known elevation at the outlet and a calculatable drainage area to propagate a solution upstream.\n",
    "\n",
    "**Add equation here**\n",
    "\n",
    "To solve that equation we face two challenges:\n",
    "\n",
    "1) It requires to iterate through all the model nodes in a specific order: from the most downstream nodes to the most upstream ones. In graph theory, this is called a tolopogical sorting orperation and fortunately `DAGGER` provide the `stack` array from the graph object (sensu Braun and Willett 2013) which does exactly that. It can be obtained with the `get_SFD_stack` function of the graph.\n",
    "\n",
    "2) Iterating manually through a large array is not oprimal in `python` (it simply is not designed for that). Because of the topological order constrain, we cannot vectorise the operation with `numpy` like we did above and solving it in pure python would be slow. Thanksfully many solutions exists from coding in another language and bind the function to `python` (`fortran, C, C++, Julia` are designed for that kind of computing), or use `python`-based solutions (`pypy, cython or numba`). Here we use `numba`, which compiles compatible `python` functions to `assembly` using `llvm`. Long story short, it makes loop fast as long as it is written in a certain style (very `numpy` compatible) and that is what we are doing bellow:\n",
    "\n"
   ]
  },
  {
   "cell_type": "code",
   "execution_count": null,
   "id": "85a8d14e-cfdb-4f8b-93ba-7630903e564b",
   "metadata": {},
   "outputs": [],
   "source": [
    "import numba as nb\n",
    "\n",
    "\n",
    "@nb.jit(nopython = True)\n",
    "def SPL_implicit(elevation, stack, receivers, dist2receivers,\n",
    "         area, k, m, n, dt, tolerance, nnodes):\n",
    "    bung = 0\n",
    "    for inode in range(nnodes):\n",
    "        istack = stack[inode]\n",
    "        irec = receivers[istack]\n",
    "\n",
    "\n",
    "        if irec == istack:\n",
    "            # no erosion at basin outlets\n",
    "            continue\n",
    "\n",
    "        factor = k * dt * area[istack]**m / dist2receivers[istack]**n\n",
    "        # if(dist2receivers[istack] == 0):\n",
    "        #     print(istack,\"|\", end = \"\")\n",
    "        #     bung+=1\n",
    "\n",
    "        ielevation = elevation[istack]\n",
    "        irec_elevation = elevation[irec]\n",
    "\n",
    "        # iterate: lower elevation until convergence\n",
    "        elevation_k = ielevation\n",
    "        elevation_prev = np.inf\n",
    "\n",
    "        while abs(elevation_k - elevation_prev) > tolerance:\n",
    "            elevation_prev = elevation_k\n",
    "            slope = max(elevation_k - irec_elevation,1e-6)\n",
    "            diff = ((elevation_k - ielevation + factor * (slope)**n) /\n",
    "              (1. + factor * n * slope**(n - 1)))\n",
    "            elevation_k -= diff\n",
    "\n",
    "        elevation[istack] = elevation_k\n",
    "    # print(bung)"
   ]
  },
  {
   "cell_type": "markdown",
   "id": "7f41e026-4d62-4d6c-aefb-bfe03c519e2f",
   "metadata": {},
   "source": [
    "### Scenario III: Solving large domains with implicit SPL and `DAGGER`\n",
    "\n",
    "Now our equation is unconditionnaly stable, we can run much bigger landscapes with much bigger timesteps.\n",
    "See bellow:"
   ]
  },
  {
   "cell_type": "code",
   "execution_count": null,
   "id": "673ba4f0-9901-4cf9-a048-7b1dcb7fc03e",
   "metadata": {},
   "outputs": [],
   "source": [
    "# number of nodes in the X/Y directions\n",
    "nx,ny = 1000,500\n",
    "# Resolution in the X/Y directions\n",
    "dx,dy = 200,200\n",
    "# generating hte white noise\n",
    "topo = np.random.rand(ny*nx)+5\n",
    "\n",
    "con = dag.D8N(nx, ny, dx, dy, 0, 0)\n",
    "gf = dag.graph(nx * ny, 8)\n",
    "gf.init_graph(con)\n",
    "\n",
    "# SPL exponents\n",
    "m,n = 0.45,1\n",
    "# Erodability\n",
    "K = 2e-4\n",
    "# Surface uplift\n",
    "U = 0.8e-3\n",
    "# timestep\n",
    "dt = 10000\n",
    "# ndt = number of time steps\n",
    "ndt = 2000\n",
    "\n",
    "fig,ax = plt.subplots()\n",
    "im = ax.imshow(topo.reshape(ny,nx), cmap = \"gist_earth\")"
   ]
  },
  {
   "cell_type": "code",
   "execution_count": null,
   "id": "7870be6f-6366-4208-9134-51c413347098",
   "metadata": {},
   "outputs": [],
   "source": [
    "# Running the SPL for ndt timesteps\n",
    "for i in range(1000):\n",
    "    # Comuting the graph with a fill algorithm and only for Single Flow\n",
    "    gf.set_LMR_method(dag.LMR.cordonnier_carve)\n",
    "    gf.compute_graph(topo, con, True, True)\n",
    "    # Getting drainage area\n",
    "    A = gf.accumulate_constant_downstream_SFD(con, 900)\n",
    "    # The array pointing the the node index of the receiver for each nodes (itself if no receivers by convention)\n",
    "    Srec = gf.get_SFD_receivers()\n",
    "    # dx corresponding to the receivers array above\n",
    "    Sdist = gf.get_SFD_dx()\n",
    "    # The topological ordering\n",
    "    stack = gf.get_SFD_stack()\n",
    "    # Eroding the topography\n",
    "    SPL_implicit(topo, stack, Srec, Sdist, A, K, m, n, dt, 1e-3, nx * ny)\n",
    "    # Adding the uplift\n",
    "    topo += U * dt\n",
    "    # Setting boundaries to 0\n",
    "    con.set_values_at_boundaries(topo,0)\n",
    "    # Updating the plot\n",
    "    if(i%20 == 0):\n",
    "        im = ax.imshow(topo.reshape(ny,nx), cmap = \"gist_earth\")\n",
    "        fig.canvas.draw()"
   ]
  },
  {
   "cell_type": "code",
   "execution_count": null,
   "id": "4051beac-fe04-4f0b-8fd2-d5a934315449",
   "metadata": {},
   "outputs": [],
   "source": []
  }
 ],
 "metadata": {
  "kernelspec": {
   "display_name": "Python 3 (ipykernel)",
   "language": "python",
   "name": "python3"
  },
  "language_info": {
   "codemirror_mode": {
    "name": "ipython",
    "version": 3
   },
   "file_extension": ".py",
   "mimetype": "text/x-python",
   "name": "python",
   "nbconvert_exporter": "python",
   "pygments_lexer": "ipython3",
   "version": "3.10.8"
  }
 },
 "nbformat": 4,
 "nbformat_minor": 5
}
