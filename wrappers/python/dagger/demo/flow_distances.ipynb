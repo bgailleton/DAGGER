{
	"cells": [
  {
   "cell_type": "markdown",
   "id": "7fc7d0b2-b489-4490-b4a0-d12d5f8fae49",
   "metadata": {},
   "source": [
    "# A matter of distances\n",
    "\n",
    "Flow distance is a key aspect of landscape analysis. River long profiles are plotting flow distance form the outlet function of elevation, dimensionless erosion rates $E^*$ can be calculated function of the distance from hill tops, or it can be used to assess the connectivity of the different parts of the landscape with their outlet.\n",
    "\n",
    "`DAGGER` offers different metrics linked to flow distance and this notebook explores a number of them.\n"
   ]
  },
  {
   "cell_type": "code",
   "execution_count": null,
   "id": "8687b264-8bd4-4b0a-a58d-169f3ac88a0b",
   "metadata": {},
   "outputs": [],
   "source": [
    "import dagger as dag\n",
    "from helper import load_raster\n",
    "import matplotlib.pyplot as plt\n",
    "import numpy as np\n",
    "\n",
    "# The following line is a jupyter lab command telling it to use the interactive widget ipympl for matplotlib\n",
    "%matplotlib widget"
   ]
  },
  {
   "cell_type": "code",
   "execution_count": null,
   "id": "0ecb77a9-35dc-4f1e-9675-1e94aa9c6bf0",
   "metadata": {},
   "outputs": [],
   "source": [
    "dem = load_raster(\"example.tif\")\n",
    "\n",
    "con = dag.D8N(dem[\"nx\"], dem[\"ny\"], dem[\"dx\"], dem[\"dy\"], dem[\"x_min\"], dem[\"y_min\"])\n",
    "gf = dag.graph(dem[\"nx\"] * dem[\"ny\"], 8)\n",
    "gf.init_graph(con)\n",
    "gf.set_LMR_method(dag.LMR.cordonnier_fill)\n",
    "PPdem = gf.compute_graph(dem['array'].ravel(), con, False, True)\n",
    "HS = dag.hillshade(con,PPdem)\n",
    "rshp = [dem['ny'], dem['nx']]\n"
   ]
  },
  {
   "cell_type": "code",
   "execution_count": null,
   "id": "067d92b9-f780-4897-9448-551d19f3a34e",
   "metadata": {},
   "outputs": [],
   "source": [
    "fig, ax = plt.subplots()\n",
    "cb = ax.imshow(PPdem.reshape(rshp), cmap = 'gist_earth', vmin =100, vmax = 1500)\n",
    "ax.imshow(HS.reshape(rshp), cmap = 'gray', alpha = 0.6)\n",
    "plt.colorbar(cb, label = \"elevation\")\n",
    "ax.grid(ls = '--', alpha = 0.2, color = 'k')"
   ]
  },
  {
   "cell_type": "code",
   "execution_count": null,
   "id": "b2ea1b95-a3f9-4557-801d-49abcfca7784",
   "metadata": {},
   "outputs": [],
   "source": [
    "SFD_dist_from_outlet = gf.get_SFD_distance_from_outlets(con)"
   ]
  },
  {
   "cell_type": "code",
   "execution_count": null,
   "id": "5fabacf2-ae43-4162-b2b1-e99990ec4bae",
   "metadata": {},
   "outputs": [],
   "source": [
    "fig, ax = plt.subplots()\n",
    "cb = ax.imshow(SFD_dist_from_outlet.reshape(rshp), cmap = 'Reds')\n",
    "ax.imshow(HS.reshape(rshp), cmap = 'gray', alpha = 0.6)\n",
    "plt.colorbar(cb, label = \"elevation\")\n",
    "ax.grid(ls = '--', alpha = 0.2, color = 'k')"
   ]
  },
  {
   "cell_type": "code",
   "execution_count": null,
   "id": "320c6a15-d1f0-43d7-ae34-69c8a498b8e0",
   "metadata": {},
   "outputs": [],
   "source": [
    "SFD_nax_dist_from_sources = gf.get_SFD_max_distance_from_sources(con)\n",
    "fig, ax = plt.subplots()\n",
    "cb = ax.imshow(SFD_nax_dist_from_sources.reshape(rshp), cmap = 'Reds')\n",
    "ax.imshow(HS.reshape(rshp), cmap = 'gray', alpha = 0.6)\n",
    "plt.colorbar(cb, label = \"elevation\")\n",
    "ax.grid(ls = '--', alpha = 0.2, color = 'k')"
   ]
  },
  {
   "cell_type": "code",
   "execution_count": null,
   "id": "29175632-bcda-4607-893d-5dfca5b14e8f",
   "metadata": {},
   "outputs": [],
   "source": [
    "SFD_min_dist_from_sources = gf.get_SFD_min_distance_from_sources(con)\n",
    "fig, ax = plt.subplots()\n",
    "cb = ax.imshow(SFD_min_dist_from_sources.reshape(rshp), cmap = 'Reds')\n",
    "ax.imshow(HS.reshape(rshp), cmap = 'gray', alpha = 0.6)\n",
    "plt.colorbar(cb, label = \"elevation\")\n",
    "ax.grid(ls = '--', alpha = 0.2, color = 'k')"
   ]
  },
  {
   "cell_type": "code",
   "execution_count": null,
   "id": "e91270c8-f07f-4d71-aae3-379a75075cae",
   "metadata": {},
   "outputs": [],
   "source": [
    "MFD_min_dist_from_sources = gf.get_MFD_min_distance_from_sources(con)\n",
    "fig, ax = plt.subplots()\n",
    "cb = ax.imshow(MFD_min_dist_from_sources.reshape(rshp), cmap = 'Reds')\n",
    "ax.imshow(HS.reshape(rshp), cmap = 'gray', alpha = 0.6)\n",
    "plt.colorbar(cb, label = \"elevation\")\n",
    "ax.grid(ls = '--', alpha = 0.2, color = 'k')"
   ]
  },
  {
   "cell_type": "code",
   "execution_count": null,
   "id": "43664876-a234-4286-ac99-216520d50a34",
   "metadata": {},
   "outputs": [],
   "source": [
    "MFD_max_dist_from_sources = gf.get_MFD_max_distance_from_sources(con)\n",
    "fig, ax = plt.subplots()\n",
    "cb = ax.imshow(MFD_max_dist_from_sources.reshape(rshp), cmap = 'Reds')\n",
    "ax.imshow(HS.reshape(rshp), cmap = 'gray', alpha = 0.6)\n",
    "plt.colorbar(cb, label = \"elevation\")\n",
    "ax.grid(ls = '--', alpha = 0.2, color = 'k')"
   ]
  },
  {
   "cell_type": "code",
   "execution_count": null,
   "id": "27dcc165-5883-4713-a33a-9f56550bcd1d",
   "metadata": {},
   "outputs": [],
   "source": [
    "MFD_min_dist_from_outlets = gf.get_MFD_min_distance_from_outlets(con)\n",
    "fig, ax = plt.subplots()\n",
    "cb = ax.imshow(MFD_min_dist_from_outlets.reshape(rshp), cmap = 'Reds')\n",
    "ax.imshow(HS.reshape(rshp), cmap = 'gray', alpha = 0.6)\n",
    "plt.colorbar(cb, label = \"elevation\")\n",
    "ax.grid(ls = '--', alpha = 0.2, color = 'k')"
   ]
  },
  {
   "cell_type": "code",
   "execution_count": null,
   "id": "a491f0be-ee3d-405f-a7bb-2f1d69e0f098",
   "metadata": {},
   "outputs": [],
   "source": [
    "MFD_max_dist_from_outlets = gf.get_MFD_max_distance_from_outlets(con)\n",
    "fig, ax = plt.subplots()\n",
    "cb = ax.imshow(MFD_max_dist_from_outlets.reshape(rshp), cmap = 'Reds')\n",
    "ax.imshow(HS.reshape(rshp), cmap = 'gray', alpha = 0.6)\n",
    "plt.colorbar(cb, label = \"elevation\")\n",
    "ax.grid(ls = '--', alpha = 0.2, color = 'k')"
   ]
  },
  {
   "cell_type": "code",
   "execution_count": null,
   "id": "9682bcfc-fa6e-48bf-86a3-d61e7727ed5c",
   "metadata": {},
   "outputs": [],
   "source": []
  }
 ],
 "metadata": {
  "kernelspec": {
   "display_name": "Python 3 (ipykernel)",
   "language": "python",
   "name": "python3"
  },
  "language_info": {
   "codemirror_mode": {
    "name": "ipython",
    "version": 3
   },
   "file_extension": ".py",
   "mimetype": "text/x-python",
   "name": "python",
   "nbconvert_exporter": "python",
   "pygments_lexer": "ipython3",
   "version": "3.10.8"
  }
 },
 "nbformat": 4,
 "nbformat_minor": 5
}
