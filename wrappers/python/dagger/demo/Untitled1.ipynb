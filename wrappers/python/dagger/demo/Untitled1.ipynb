{
	"cells": [
  {
   "cell_type": "code",
   "execution_count": null,
   "id": "83563fbf-048e-47be-aafc-cccee6bea492",
   "metadata": {},
   "outputs": [],
   "source": []
  },
  {
   "cell_type": "code",
   "execution_count": 1,
   "id": "4fcab3f0-6677-41b0-ac6b-528b9147756c",
   "metadata": {},
   "outputs": [],
   "source": [
    "import dagger as dag\n",
    "from helper import load_raster\n",
    "import matplotlib.pyplot as plt\n",
    "import numpy as np\n",
    "\n",
    "# The following line is a jupyter lab command telling it to use the interactive widget ipympl for matplotlib\n",
    "%matplotlib widget\n",
    "\n",
    "# dem = load_raster(\"example.tif\")\n",
    "dem = load_raster(\"../../../../FastFlood2.0/FastFlood2_Boris/data/DEM_1m_crop.tif\")\n",
    "\n",
    "con = dag.D8N(dem[\"nx\"], dem[\"ny\"], dem[\"dx\"], dem[\"dy\"], dem[\"x_min\"], dem[\"y_min\"])\n",
    "gf = dag.graph(dem[\"nx\"] * dem[\"ny\"], 8)\n",
    "gf.init_graph(con)\n",
    "gf.set_LMR_method(dag.LMR.cordonnier_fill)\n",
    "PPdem = gf.compute_graph(dem['array'].ravel(), con, True, True)\n",
    "HS = dag.hillshade(con,PPdem)\n",
    "rshp = [dem['ny'], dem['nx']]\n",
    "rshp\n",
    "\n",
    "SDA = gf.accumulate_constant_downstream_SFD(con,dem['dx'] * dem['dy'])\n",
    "\n",
    "gradient = gf.get_links_gradient(con, PPdem)"
   ]
  },
  {
   "cell_type": "code",
   "execution_count": null,
   "id": "07c101f6-7dc1-4e51-a69f-caf9d90eab3b",
   "metadata": {},
   "outputs": [],
   "source": [
    "weights = gf.get_link_weights(gradient,0)\n",
    "MFA_0 = gf.accumulate_constant_downstream_MFD(con,weights,1)"
   ]
  },
  {
   "cell_type": "code",
   "execution_count": null,
   "id": "7e2b6528-6bfe-4db0-9c92-d6c71bce0df4",
   "metadata": {},
   "outputs": [],
   "source": [
    "fig, ax = plt.subplots()\n",
    "cb = ax.imshow(np.log10(MFA_0).reshape(rshp), cmap = 'Blues')\n",
    "ax.imshow(HS.reshape(rshp), cmap = 'gray', alpha = 0.1)\n",
    "plt.colorbar(cb, label = \"Drainage area\")\n",
    "ax.grid(ls = '--', alpha = 0.2, color = 'k')"
   ]
  },
  {
   "cell_type": "markdown",
   "id": "abe6be1e-bf08-4f4b-94ad-251dbd5262e9",
   "metadata": {},
   "source": [
    "This is the most divergent scenario and may be rarely relevant for drainage area but it illustrates well the differences of pattern with single flow direction. If you zoom on the river with the square zoom option (only feasible with %matplotlib widget active, you'll notice they are multiple pixel wide (this is a low0res DEM, it would be more obvious on a lidar but bigger to distribute as test site). The hillslopes in the eastern part of thhis landscape are also a good exemple: they are very linear and you see that the flow struggle to converge and form channels.\n",
    "\n",
    "OK now let's consider the partition to be function of the squareroot of the slope, this would be in accordance with mannings equations for example.\n"
   ]
  },
  {
   "cell_type": "code",
   "execution_count": null,
   "id": "287060ed-7ac0-448b-a716-22a3b7ee3cc4",
   "metadata": {},
   "outputs": [],
   "source": [
    "weights = gf.get_link_weights(gradient,0.5)\n",
    "MFA_05 = gf.accumulate_constant_downstream_MFD(con,weights,900)"
   ]
  },
  {
   "cell_type": "code",
   "execution_count": null,
   "id": "baa86fcd-7da0-4d51-8108-6bcf9a5a05dc",
   "metadata": {},
   "outputs": [],
   "source": [
    "fig, ax = plt.subplots()\n",
    "cb = ax.imshow(np.log10(MFA_05).reshape(rshp), cmap = 'Blues')\n",
    "ax.imshow(HS.reshape(rshp), cmap = 'gray', alpha = 0.1)\n",
    "plt.colorbar(cb, label = \"Drainage area\")\n",
    "ax.grid(ls = '--', alpha = 0.2, color = 'k')"
   ]
  },
  {
   "cell_type": "markdown",
   "id": "e5b7612c-ecf5-4145-a5ca-efce736347a4",
   "metadata": {},
   "source": [
    "And it leads to more channelised flow.\n",
    "Now let's compare multiple values with a small animation:\n",
    "First I create a figure holder and in the cell after I'll make a loop updating it"
   ]
  },
  {
   "cell_type": "code",
   "execution_count": null,
   "id": "4d3088de-3d41-4745-bf34-173da716455e",
   "metadata": {},
   "outputs": [],
   "source": [
    "fig, ax = plt.subplots()\n",
    "im = ax.imshow(np.log10(MFA_0).reshape(rshp), cmap = 'Blues')\n",
    "ax.imshow(HS.reshape(rshp), cmap = 'gray', alpha = 0.1)\n",
    "plt.colorbar(im, label = \"Drainage area\")\n",
    "ax.grid(ls = '--', alpha = 0.2, color = 'k')"
   ]
  },
  {
   "cell_type": "code",
   "execution_count": null,
   "id": "9c137b62-a3c4-4526-aa89-eddf3248d054",
   "metadata": {},
   "outputs": [],
   "source": [
    "import time\n",
    "p = 0\n",
    "for i in range(1000):\n",
    "    dp = 0.05\n",
    "    if(p>1):\n",
    "        dp = 0.2\n",
    "    p += dp\n",
    "    if(p > 15):\n",
    "        p = 0\n",
    "    weights = gf.get_link_weights(gradient,p)\n",
    "    MFA = gf.accumulate_constant_downstream_MFD(con,weights,900)\n",
    "    im.set_data(np.log10(MFA).reshape(rshp))\n",
    "    yo = ax.set_title(\"p = %s\"%(round(p,2)))\n",
    "    fig.canvas.draw()\n",
    "    "
   ]
  },
  {
   "cell_type": "code",
   "execution_count": null,
   "id": "ea7e3691-4504-445d-8df7-53f29bc3f778",
   "metadata": {},
   "outputs": [],
   "source": [
    "%timeit PPdem = gf.compute_graph(\"cordonnier_carve\", dem['array'].ravel(), con, False, False)"
   ]
  },
  {
   "cell_type": "code",
   "execution_count": null,
   "id": "81f5d06e-7149-4f35-a697-c9f92d239853",
   "metadata": {},
   "outputs": [],
   "source": [
    "%timeit PPdem = gf.compute_graph(\"cordonnier_carve\", dem['array'].ravel(), con, False, True)"
   ]
  },
  {
   "cell_type": "code",
   "execution_count": null,
   "id": "44e42ff8-39c4-40b1-951b-903fb65add73",
   "metadata": {},
   "outputs": [],
   "source": [
    "\n",
    "%timeit PPdem = gf.compute_graph(\"cordonnier_carve\", dem['array'].ravel(), con, True, True)"
   ]
  },
  {
   "cell_type": "code",
   "execution_count": null,
   "id": "77b02a87-a2a2-47c2-a4da-b90da1dc551f",
   "metadata": {},
   "outputs": [],
   "source": []
  }
 ],
 "metadata": {
  "kernelspec": {
   "display_name": "Python 3 (ipykernel)",
   "language": "python",
   "name": "python3"
  },
  "language_info": {
   "codemirror_mode": {
    "name": "ipython",
    "version": 3
   },
   "file_extension": ".py",
   "mimetype": "text/x-python",
   "name": "python",
   "nbconvert_exporter": "python",
   "pygments_lexer": "ipython3",
   "version": "3.9.13"
  }
 },
 "nbformat": 4,
 "nbformat_minor": 5
}
