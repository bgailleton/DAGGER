{
 "cells": [
  {
   "cell_type": "markdown",
   "id": "bcaeeaad-02e4-4010-9abb-efa1891ec02c",
   "metadata": {},
   "source": [
    "> **WARNING** It is more than recommended to work on a copy of that file (_i.e._ not IN the cloned git repository) otherwise next time you update the repo with `git pull` you'll face a `merging` issue and these are tricky to manage\n",
    "\n",
    "# My first landscape\n",
    "\n",
    "In this notebook, we will use the basic `trackscape` module, aka without the python helper, to run from scratch a simple fluvial landscape.\n",
    "\n",
    "## Importing the right codes\n",
    "\n",
    "First let's import the different modules we will use:\n",
    "\n",
    "- matplotlib for the visualisation\n",
    "- numpy for generating input data\n",
    "- popscape_dagger for the model\n",
    "- Note the `%matplotlib wdiget` is an optional widget to get interactive figures"
   ]
  },
  {
   "cell_type": "code",
   "execution_count": null,
   "id": "214f9eb0-5ad6-42dc-9539-873ce845a77f",
   "metadata": {},
   "outputs": [],
   "source": [
    "import matplotlib.pyplot as plt\n",
    "import numpy as np\n",
    "import dagger as dag\n",
    "\n",
    "\n",
    "%matplotlib widget\n",
    "\n"
   ]
  },
  {
   "cell_type": "markdown",
   "id": "d7c18ca5-4a23-42c3-a005-7bb396491af7",
   "metadata": {},
   "source": [
    "## Setting up parameters\n",
    "\n",
    "For the sake of clarity, let's set up the param before running the model. This is a basic example, so we will simply set homogeneous model parameters. The values of the parameters will be discussed in a later tutorial:\n",
    "\n",
    "- `ny,nx` are the number of pixels in the y and x directions\n",
    "- `dy, dx` are the spacing between two pixels in the y and x directions. The length in therefore `(ny + 1) * dy` and `(nx + 1) * dx` if we assume the coordinates at the center of the pixels\n",
    "- `rshp` represents the **shape** of the 2D numpy arrays of model dimensions. Any `DAGGER` related codes process the landscapes as a big 1D array, visualising the data as an image requires reshaping the 1D array in a 2D matrix\n",
    "- `dt` is the model time step (time interval between each calculations)\n",
    "- `Urate` is the uplift rate of the model\n",
    "- `Kr` is the bedrock erodability\n",
    "- `Ks` is the sediment erodability\n",
    "- `dep` is the deposition coefficient"
   ]
  },
  {
   "cell_type": "code",
   "execution_count": null,
   "id": "cf2ae036-e09e-4cd7-aa18-17e5b0578990",
   "metadata": {},
   "outputs": [],
   "source": [
    "ny,nx = 256,256\n",
    "dy,dx = 200,200\n",
    "Urate = 5e-4\n",
    "dt = 500\n",
    "Kr = 1e-5\n",
    "Ks = 2e-5\n",
    "dep = 4\n",
    "rshp = (ny,nx)"
   ]
  },
  {
   "cell_type": "markdown",
   "id": "b005aa91-5d4c-4c2a-8672-a11a1b15111e",
   "metadata": {},
   "source": [
    "## Setting up model object\n",
    "\n",
    "`python` and `c++` are object oriented lanuages. An object is a set of data and function associated together to operate smoothly, and that's where we control the model behavior. \n",
    "\n",
    "Note here that we initialise the model with white noise - further options will come soon. We will also demonstrate other boundary conditions, `\"4edges\"` means that all the boundaries outlets the model.\n",
    "\n",
    "For this first example, we also set the hillslope processes off. By default, the model is set to run in Single Flow Direction mode."
   ]
  },
  {
   "cell_type": "code",
   "execution_count": null,
   "id": "c762bfb6-5952-40af-9335-db4c3170ee5e",
   "metadata": {},
   "outputs": [],
   "source": [
    "# Initialising an empty model in the variable ts\n",
    "ts = dag.trackscape()\n",
    "# Initialising the topography and its dimensions\n",
    "ts.init_random(dag.NOISE.WHITE, nx, ny,dx,dy,\"4edges\")\n",
    "\n",
    "# FUnctions to set parameters as global homogeneous values (if not initialised, there is a default value)\n",
    "ts.set_single_Kr(Kr)\n",
    "ts.set_single_Ks(Ks)\n",
    "ts.set_single_depcoeff(dep)\n",
    "\n",
    "# Deactivate hilllsopes processes\n",
    "ts.hillslopes_off()"
   ]
  },
  {
   "cell_type": "markdown",
   "id": "59d8b13a-97cc-4710-9253-eb49ff9cd195",
   "metadata": {},
   "source": [
    "## Running the model\n",
    "\n",
    "Finally we can run the model. The model has a `run` function that automatically runs one timestep with the options inputted. We set up an interractive plot, this is not the most instinctive way to visualise, but it is satisfying. Another notebook will detail the different outputs.\n",
    "\n",
    "\n",
    "This first cell generates the figure:"
   ]
  },
  {
   "cell_type": "code",
   "execution_count": null,
   "id": "789041e1-ee18-48ee-9407-b7e7c809210d",
   "metadata": {},
   "outputs": [],
   "source": [
    "fig,ax = plt.subplots()\n",
    "\n",
    "topo = ts.get_topo().reshape(rshp)\n",
    "im = ax.imshow(topo, cmap = \"gist_earth\")\n",
    "plt.colorbar(im, label = \"elevation (m)\")"
   ]
  },
  {
   "cell_type": "markdown",
   "id": "67ed6202-c9df-4d0a-8115-12090afcdcd8",
   "metadata": {},
   "source": [
    "**Let's now run the model `ndt` times, and update the figure every `nupdate` timesteps** (updating the figure too often can be costly).\n",
    "\n",
    "> **Note** the figure is updated in place, just above. If you deactivated the widget, it won't work"
   ]
  },
  {
   "cell_type": "code",
   "execution_count": null,
   "id": "afdc9622-5941-4549-956b-369b46eecac7",
   "metadata": {},
   "outputs": [],
   "source": [
    "ndt = 10000\n",
    "nupdate = 100\n",
    "\n",
    "# Main loop\n",
    "for i in range(ndt):\n",
    "    # Calling the run function for single flow\n",
    "    ts.run_SFD(dt)\n",
    "    # Calling hte block uplift funtion)\n",
    "    ts.block_uplift(Urate,dt)\n",
    "    \n",
    "    # If nupdate^th timestep: I update the fig\n",
    "    if(i%nupdate == 0):\n",
    "        ## printing the timestep\n",
    "        print(\"                   \",end = \"\\r\")\n",
    "        print(\"Timestep\",i,end = \"\\r\")\n",
    "        \n",
    "        #GEtting the topography\n",
    "        topo = ts.get_topo().reshape(rshp)\n",
    "        # Setting the new data\n",
    "        im.set_data(topo)\n",
    "        # Setting the new colorbar limits\n",
    "        im.set_clim(topo.min(), topo.max())\n",
    "        # Apply the update\n",
    "        fig.canvas.draw()\n",
    "        \n",
    "        \n",
    "        \n",
    "        "
   ]
  },
  {
   "cell_type": "code",
   "execution_count": null,
   "id": "cd43d047-5346-45b7-9190-8254b1863e3e",
   "metadata": {},
   "outputs": [],
   "source": []
  },
  {
   "cell_type": "code",
   "execution_count": null,
   "id": "4e2a0dfc-c24e-4edf-b9fc-b6e2de5ee737",
   "metadata": {},
   "outputs": [],
   "source": [
    "ts.fluvial_off()"
   ]
  },
  {
   "cell_type": "code",
   "execution_count": null,
   "id": "056e0cee-5d57-44b6-8f3e-77c0972864bc",
   "metadata": {},
   "outputs": [],
   "source": []
  }
 ],
 "metadata": {
  "kernelspec": {
   "display_name": "Python 3 (ipykernel)",
   "language": "python",
   "name": "python3"
  },
  "language_info": {
   "codemirror_mode": {
    "name": "ipython",
    "version": 3
   },
   "file_extension": ".py",
   "mimetype": "text/x-python",
   "name": "python",
   "nbconvert_exporter": "python",
   "pygments_lexer": "ipython3",
   "version": "3.10.8"
  }
 },
 "nbformat": 4,
 "nbformat_minor": 5
}
