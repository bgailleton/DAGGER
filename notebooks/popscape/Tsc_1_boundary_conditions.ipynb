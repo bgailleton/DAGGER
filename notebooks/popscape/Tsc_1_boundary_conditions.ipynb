{
 "cells": [
  {
   "cell_type": "markdown",
   "id": "bcaeeaad-02e4-4010-9abb-efa1891ec02c",
   "metadata": {},
   "source": [
    "> **WARNING** It is more than recommended to work on a copy of that file (_i.e._ not IN the cloned git repository) otherwise next time you update the repo with `git pull` you'll face a `merging` issue and these are tricky to manage\n",
    "\n",
    "# Managing simple boundary conditions\n",
    "\n",
    "In this notebook, we will use the basic `trackscape` module, aka without the python helper, to run fluvial landscapes with different boundary conditions.\n",
    "\n",
    "## Setting up the Parameters\n",
    "\n",
    "See Notebook `Tsc_0_...` for the details. The important bit for this tutorial is the `boundary` string. `\"4edges\"`, as the name suggests, means that the 4 edges of my raster-like domain are fixed boundaries. Flow can escape from all the nodes around the raster."
   ]
  },
  {
   "cell_type": "code",
   "execution_count": null,
   "id": "b399c7ad-62f8-44af-8ebd-32f17c51a265",
   "metadata": {},
   "outputs": [],
   "source": [
    "import matplotlib.pyplot as plt\n",
    "import numpy as np\n",
    "import popscape_dagger as psc\n",
    "\n",
    "\n",
    "%matplotlib widget\n",
    "\n",
    "\n",
    "\n",
    "ny,nx = 256,256\n",
    "dy,dx = 200,200\n",
    "Urate = 5e-4\n",
    "dt = 500\n",
    "Kr = 1e-5\n",
    "Ks = 2e-5\n",
    "dep = 4\n",
    "rshp = (ny,nx)\n",
    "\n",
    "# Initialising an empty model in the variable ts\n",
    "ts = psc.trackscape()\n",
    "# Initialising the topography and its dimensions\n",
    "ts.init_random(psc.NOISE.WHITE, nx, ny,dx,dy,\"4edges\")\n",
    "\n",
    "# FUnctions to set parameters as global homogeneous values (if not initialised, there is a default value)\n",
    "ts.set_single_Kr(Kr)\n",
    "ts.set_single_Ks(Ks)\n",
    "ts.set_single_depcoeff(dep)\n",
    "\n",
    "# Deactivate hilllsopes processes\n",
    "ts.hillslopes_off()"
   ]
  },
  {
   "cell_type": "markdown",
   "id": "59d8b13a-97cc-4710-9253-eb49ff9cd195",
   "metadata": {},
   "source": [
    "## Running the model\n",
    "\n",
    "Let's run the model. You can set ndt to 0 to skip that part, or even jump to the next section, or finally use the stop button at the top of the script to stop the model execution without stopping the all notebook.\n",
    "\n",
    "This first cell generates the figure:"
   ]
  },
  {
   "cell_type": "code",
   "execution_count": null,
   "id": "789041e1-ee18-48ee-9407-b7e7c809210d",
   "metadata": {},
   "outputs": [],
   "source": [
    "fig,ax = plt.subplots()\n",
    "\n",
    "topo = ts.get_topo().reshape(rshp)\n",
    "im = ax.imshow(topo, cmap = \"gist_earth\")\n",
    "plt.colorbar(im, label = \"elevation (m)\")"
   ]
  },
  {
   "cell_type": "markdown",
   "id": "67ed6202-c9df-4d0a-8115-12090afcdcd8",
   "metadata": {},
   "source": [
    "**Let's now run the model `ndt` times, and update the figure every `nupdate` timesteps** (updating the figure too often can be costly).\n",
    "\n",
    "> **Note** the figure is updated in place, just above. If you deactivated the widget, it won't work"
   ]
  },
  {
   "cell_type": "code",
   "execution_count": null,
   "id": "afdc9622-5941-4549-956b-369b46eecac7",
   "metadata": {},
   "outputs": [],
   "source": [
    "ndt = 10000\n",
    "nupdate = 100\n",
    "\n",
    "# Main loop\n",
    "for i in range(ndt):\n",
    "    # Calling the run function for single flow\n",
    "    ts.run_SFD(dt)\n",
    "    # Calling hte block uplift funtion)\n",
    "    ts.block_uplift(Urate,dt)\n",
    "    \n",
    "    # If nupdate^th timestep: I update the fig\n",
    "    if(i%nupdate == 0):\n",
    "        ## printing the timestep\n",
    "        print(\"                   \",end = \"\\r\")\n",
    "        print(\"Timestep\",i,end = \"\\r\")\n",
    "        \n",
    "        #GEtting the topography\n",
    "        topo = ts.get_topo().reshape(rshp)\n",
    "        # Setting the new data\n",
    "        im.set_data(topo)\n",
    "        # Setting the new colorbar limits\n",
    "        im.set_clim(topo.min(), topo.max())\n",
    "        # Apply the update\n",
    "        fig.canvas.draw()\n",
    "        \n",
    "        \n",
    "        \n",
    "        "
   ]
  },
  {
   "cell_type": "markdown",
   "id": "bea02832-6f8a-435a-9f2c-3dda53a318b4",
   "metadata": {},
   "source": [
    "## Changing boundary conditions\n",
    "\n",
    "There is no \"good\" or \"bad\" boundary conditions, it really depends on the test case. `\"4edges\"` is the least complicated way to use boundaries. However it can generate geometrical artifacts by maximising boundary effect. One way to go around that problem is to use pedriodic/cyclic boundaries. These types of boundaries connect one side of the landscape to another to simulate, for example, an infinite range. The range is not inifinite in length, but is not affected by side base level.\n",
    "\n",
    "The two built-in periodic options are: `\"periodic_EW\"` and `\"periodic_NS\"`, repectively connecting the left-right and top-bottom boundaries together. Let's try one out (feel free to test the other one). Note that I elongated the model dimensions in one of the directions."
   ]
  },
  {
   "cell_type": "code",
   "execution_count": null,
   "id": "4e2a0dfc-c24e-4edf-b9fc-b6e2de5ee737",
   "metadata": {},
   "outputs": [],
   "source": [
    "ny,nx = 512,256\n",
    "dy,dx = 200,200\n",
    "Urate = 5e-4\n",
    "dt = 500\n",
    "Kr = 1e-5\n",
    "Ks = 2e-5\n",
    "dep = 4\n",
    "rshp = (ny,nx)\n",
    "\n",
    "# Initialising an empty model in the variable ts\n",
    "ts = psc.trackscape()\n",
    "# Initialising the topography and its dimensions\n",
    "ts.init_random(psc.NOISE.WHITE, nx, ny,dx,dy,\"periodic_NS\")\n",
    "\n",
    "# FUnctions to set parameters as global homogeneous values (if not initialised, there is a default value)\n",
    "ts.set_single_Kr(Kr)\n",
    "ts.set_single_Ks(Ks)\n",
    "ts.set_single_depcoeff(dep)\n",
    "\n",
    "# Deactivate hilllsopes processes\n",
    "ts.hillslopes_off()"
   ]
  },
  {
   "cell_type": "code",
   "execution_count": null,
   "id": "056e0cee-5d57-44b6-8f3e-77c0972864bc",
   "metadata": {},
   "outputs": [],
   "source": [
    "fig,ax = plt.subplots()\n",
    "\n",
    "topo = ts.get_topo().reshape(rshp)\n",
    "im = ax.imshow(topo, cmap = \"gist_earth\")\n",
    "plt.colorbar(im, label = \"elevation (m)\")\n",
    "plt.tight_layout()"
   ]
  },
  {
   "cell_type": "code",
   "execution_count": null,
   "id": "d852e52c-da4f-42fb-a9ad-fa05128ea868",
   "metadata": {},
   "outputs": [],
   "source": [
    "ndt = 10000\n",
    "nupdate = 100\n",
    "\n",
    "# Main loop\n",
    "for i in range(ndt):\n",
    "    # Calling the run function for single flow\n",
    "    ts.run_SFD(dt)\n",
    "    # Calling hte block uplift funtion)\n",
    "    ts.block_uplift(Urate,dt)\n",
    "    \n",
    "    # If nupdate^th timestep: I update the fig\n",
    "    if(i%nupdate == 0):\n",
    "        ## printing the timestep\n",
    "        print(\"                   \",end = \"\\r\")\n",
    "        print(\"Timestep\",i,end = \"\\r\")\n",
    "        \n",
    "        #GEtting the topography\n",
    "        topo = ts.get_topo().reshape(rshp)\n",
    "        # Setting the new data\n",
    "        im.set_data(topo)\n",
    "        # Setting the new colorbar limits\n",
    "        im.set_clim(topo.min(), topo.max())\n",
    "        # Apply the update\n",
    "        fig.canvas.draw()"
   ]
  },
  {
   "cell_type": "markdown",
   "id": "491e4396-457b-42ff-af25-47f0eda09f08",
   "metadata": {},
   "source": [
    "## Next steps in the boundaries\n",
    "\n",
    "This notebook really only introduces the concept and most classic uses of boundary conditions. It also cover most of the common uses for theoretical studies. The next steps will be detailed in other notebooks, and will deal with more complex cases - e.g. stricly fixed boundaries vs evolving boundaries; flexible boundaries that can give fluxes to lower neighbours; internal boundaries to only model one irregular watershed; ...\n"
   ]
  },
  {
   "cell_type": "code",
   "execution_count": null,
   "id": "eeb0ba1e-b25b-43c2-9d99-22d5ba42bb54",
   "metadata": {},
   "outputs": [],
   "source": []
  }
 ],
 "metadata": {
  "kernelspec": {
   "display_name": "Python 3 (ipykernel)",
   "language": "python",
   "name": "python3"
  },
  "language_info": {
   "codemirror_mode": {
    "name": "ipython",
    "version": 3
   },
   "file_extension": ".py",
   "mimetype": "text/x-python",
   "name": "python",
   "nbconvert_exporter": "python",
   "pygments_lexer": "ipython3",
   "version": "3.10.6"
  }
 },
 "nbformat": 4,
 "nbformat_minor": 5
}
