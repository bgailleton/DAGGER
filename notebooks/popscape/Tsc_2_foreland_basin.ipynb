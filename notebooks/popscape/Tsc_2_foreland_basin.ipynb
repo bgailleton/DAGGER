{
	"cells": [
  {
   "cell_type": "markdown",
   "id": "bcaeeaad-02e4-4010-9abb-efa1891ec02c",
   "metadata": {},
   "source": [
    "> **WARNING** It is more than recommended to work on a copy of that file (_i.e._ not IN the cloned git repository) otherwise next time you update the repo with `git pull` you'll face a `merging` issue and these are tricky to manage\n",
    "\n",
    "# A first Foreland Basin\n",
    "\n",
    "In this notebook, we will use the basic `trackscape` module, aka without the python helper, to run fluvial landscapes going through an uplifting range and a foreland basin. It introduces the notion of spatially variable uplift field as well as the monitoring of sediment height.\n",
    "\n",
    "## Setting up the Parameters\n",
    "\n",
    "We will set the basic parameters first, see previous notebook for more details. Note that we elongate the model in the Y direction to make a nicely outlined foreland. We also set the left and right BC to periodic in order to have an infinite foreland."
   ]
  },
  {
   "cell_type": "code",
   "execution_count": 1,
   "id": "b399c7ad-62f8-44af-8ebd-32f17c51a265",
   "metadata": {},
   "outputs": [
    {
     "ename": "TypeError",
     "evalue": "init_random(): incompatible function arguments. The following argument types are supported:\n    1. (self: dagger.trackscape, arg0: int, arg1: int, arg2: float, arg3: float, arg4: str) -> None\n\nInvoked with: <dagger.trackscape object at 0x7f313fdd15f0>, <NOISE.WHITE: 0>, 256, 512, 200, 200, 'periodic_EW'",
     "output_type": "error",
     "traceback": [
      "\u001b[0;31m---------------------------------------------------------------------------\u001b[0m",
      "\u001b[0;31mTypeError\u001b[0m                                 Traceback (most recent call last)",
      "Cell \u001b[0;32mIn[1], line 17\u001b[0m\n\u001b[1;32m     15\u001b[0m ts \u001b[38;5;241m=\u001b[39m dag\u001b[38;5;241m.\u001b[39mtrackscape()\n\u001b[1;32m     16\u001b[0m \u001b[38;5;66;03m# Initialising the topography and its dimensions\u001b[39;00m\n\u001b[0;32m---> 17\u001b[0m \u001b[43mts\u001b[49m\u001b[38;5;241;43m.\u001b[39;49m\u001b[43minit_random\u001b[49m\u001b[43m(\u001b[49m\u001b[43mdag\u001b[49m\u001b[38;5;241;43m.\u001b[39;49m\u001b[43mNOISE\u001b[49m\u001b[38;5;241;43m.\u001b[39;49m\u001b[43mWHITE\u001b[49m\u001b[43m,\u001b[49m\u001b[43m \u001b[49m\u001b[43mnx\u001b[49m\u001b[43m,\u001b[49m\u001b[43m \u001b[49m\u001b[43mny\u001b[49m\u001b[43m,\u001b[49m\u001b[43mdx\u001b[49m\u001b[43m,\u001b[49m\u001b[43mdy\u001b[49m\u001b[43m,\u001b[49m\u001b[38;5;124;43m\"\u001b[39;49m\u001b[38;5;124;43mperiodic_EW\u001b[39;49m\u001b[38;5;124;43m\"\u001b[39;49m\u001b[43m)\u001b[49m\n\u001b[1;32m     19\u001b[0m \u001b[38;5;66;03m# FUnctions to set parameters as global homogeneous values (if not initialised, there is a default value)\u001b[39;00m\n\u001b[1;32m     20\u001b[0m ts\u001b[38;5;241m.\u001b[39mset_single_Kr(Kr)\n",
      "\u001b[0;31mTypeError\u001b[0m: init_random(): incompatible function arguments. The following argument types are supported:\n    1. (self: dagger.trackscape, arg0: int, arg1: int, arg2: float, arg3: float, arg4: str) -> None\n\nInvoked with: <dagger.trackscape object at 0x7f313fdd15f0>, <NOISE.WHITE: 0>, 256, 512, 200, 200, 'periodic_EW'"
     ]
    }
   ],
   "source": [
    "import matplotlib.pyplot as plt\n",
    "import numpy as np\n",
    "import dagger as dag\n",
    "%matplotlib widget\n",
    "\n",
    "ny,nx = 512,256\n",
    "dy,dx = 200,200\n",
    "dt = 500\n",
    "Kr = 1e-5\n",
    "Ks = 2e-5\n",
    "dep = 4\n",
    "rshp = (ny,nx)\n",
    "\n",
    "# Initialising an empty model in the variable ts\n",
    "ts = dag.trackscape()\n",
    "# Initialising the topography and its dimensions\n",
    "ts.init_random(dag.NOISE.WHITE, nx, ny,dx,dy,\"periodic_EW\")\n",
    "\n",
    "# FUnctions to set parameters as global homogeneous values (if not initialised, there is a default value)\n",
    "ts.set_single_Kr(Kr)\n",
    "ts.set_single_Ks(Ks)\n",
    "ts.set_single_depcoeff(dep)\n",
    "\n",
    "# Deactivate hilllsopes processes\n",
    "ts.hillslopes_off()"
   ]
  },
  {
   "cell_type": "markdown",
   "id": "f8994171-265d-429b-b5c7-79e17ca636a3",
   "metadata": {},
   "source": [
    "### Setting the uplift field\n",
    "\n",
    "As mentioned, we will set a simple uplift field to have a range and a foreland. We will proceed in multiple steps:\n",
    "\n",
    "- Create a 2D array of model size to 0 (shape is ny,nx for n rows and n columns)\n",
    "- set the central part of the domain in the y direction to 1 mm/yrs of uplift\n",
    "- visualise\n",
    "- Linearise (the `c++` model only takes 1D arrays, this will be simplified with a `python` package on the top)"
   ]
  },
  {
   "cell_type": "code",
   "execution_count": null,
   "id": "0708ae04-5d00-4900-be95-83331ac56698",
   "metadata": {},
   "outputs": [],
   "source": [
    "# initialising the array\n",
    "Ufield = np.zeros(rshp)\n",
    "\n",
    "# Getting the coordinates of the third of the domain:\n",
    "third = round(ny/3)\n",
    "\n",
    "# Setting to 1 mm/yrs\n",
    "Ufield[third:2*third,:] = 1e-3\n",
    "\n",
    "fig,ax = plt.subplots(figsize = (4,5))\n",
    "cb = ax.imshow(Ufield, cmap = \"magma\")\n",
    "ax.set_xlabel(\"cols\")\n",
    "ax.set_ylabel(\"rows\")\n",
    "plt.colorbar(cb)\n",
    "plt.tight_layout()\n",
    "\n",
    "# Linearising\n",
    "Ufield = Ufield.ravel()"
   ]
  },
  {
   "cell_type": "markdown",
   "id": "59d8b13a-97cc-4710-9253-eb49ff9cd195",
   "metadata": {},
   "source": [
    "## Running the model\n",
    "\n",
    "Let's run the model. You can set ndt to 0 to skip that part, or even jump to the next section, or finally use the stop button at the top of the script to stop the model execution without stopping the all notebook.\n",
    "\n",
    "This first cell generates the figure, we will plot the topography as well as the sediment height. We are also getting the hillshaded relief, as it does make things nicer and show a reference point for the sediment field."
   ]
  },
  {
   "cell_type": "code",
   "execution_count": null,
   "id": "789041e1-ee18-48ee-9407-b7e7c809210d",
   "metadata": {},
   "outputs": [],
   "source": [
    "fig,ax = plt.subplots(1,2, figsize = (8,5))\n",
    "\n",
    "topo = ts.get_topo().reshape(rshp)\n",
    "# hillshade = ts.connector.get_HS(ts.get_topo()).reshape(rshp)\n",
    "hillshade = ts.get_hillshade().reshape(rshp)\n",
    "\n",
    "topoplot = ax[0].imshow(topo, cmap = \"gist_earth\")\n",
    "hsplot0 = ax[0].imshow(hillshade, cmap = \"gray\", alpha = 0.5, vmin = 0, vmax = 1)\n",
    "sedplot = ax[1].imshow(np.zeros_like(topo), cmap = \"Oranges\")\n",
    "hsplot1 = ax[1].imshow(hillshade, cmap = \"gray\", alpha = 0.5, vmin = 0, vmax = 1)\n",
    "plt.colorbar(topoplot, label = \"elevation (m)\")\n",
    "plt.colorbar(sedplot, label = \"sediment height (m)\")\n",
    "plt.tight_layout()"
   ]
  },
  {
   "cell_type": "markdown",
   "id": "67ed6202-c9df-4d0a-8115-12090afcdcd8",
   "metadata": {},
   "source": [
    "**Let's now run the model `ndt` times, and update the figure every `nupdate` timesteps** (updating the figure too often can be costly).\n",
    "\n",
    "You can also set the cmaps value to a constant value with the `set_clim` functions.\n",
    "\n",
    "> **Note** the figure is updated in place, just above. If you deactivated the widget, it won't work"
   ]
  },
  {
   "cell_type": "code",
   "execution_count": null,
   "id": "afdc9622-5941-4549-956b-369b46eecac7",
   "metadata": {},
   "outputs": [],
   "source": [
    "ndt = 10000\n",
    "nupdate = 100\n",
    "\n",
    "# Main loop\n",
    "for i in range(ndt):\n",
    "    # Calling the run function for single flow\n",
    "    ts.run_SFD(dt)\n",
    "    # Calling hte block uplift funtion)\n",
    "    ts.external_uplift(Ufield,dt, False)\n",
    "    \n",
    "    # If nupdate^th timestep: I update the fig\n",
    "    if(i%nupdate == 0):\n",
    "        ## printing the timestep\n",
    "        print(\"                   \",end = \"\\r\")\n",
    "        print(\"Timestep\",i,end = \"\\r\")\n",
    "        \n",
    "        #GEtting the topography\n",
    "        topo = ts.get_topo().reshape(rshp)\n",
    "        # Calculating hillshade\n",
    "        # hillshade = ts.connector.get_HS(ts.get_topo()).reshape(rshp)\n",
    "        hillshade = ts.get_hillshade().reshape(rshp)\n",
    "        # Setting the new data\n",
    "        topoplot.set_data(topo)\n",
    "        # Setting the new colorbar limits\n",
    "        topoplot.set_clim(topo.min(), topo.max())\n",
    "        # Updating hillshades\n",
    "        hsplot0.set_data(hillshade)\n",
    "        hsplot1.set_data(hillshade)\n",
    "        # Accessing AND updating sed height\n",
    "        tsed = ts.get_h_sed().reshape(rshp)\n",
    "        sedplot.set_data(tsed)\n",
    "        sedplot.set_clim(tsed.min(), tsed.max())\n",
    "        \n",
    "        # Apply the update\n",
    "        fig.canvas.draw()\n",
    "        \n",
    "        \n",
    "        \n",
    "        "
   ]
  },
  {
   "cell_type": "code",
   "execution_count": null,
   "id": "0f2fcacb-1bc4-4768-ab9c-31268c9f5625",
   "metadata": {},
   "outputs": [],
   "source": []
  }
 ],
 "metadata": {
  "kernelspec": {
   "display_name": "Python 3 (ipykernel)",
   "language": "python",
   "name": "python3"
  },
  "language_info": {
   "codemirror_mode": {
    "name": "ipython",
    "version": 3
   },
   "file_extension": ".py",
   "mimetype": "text/x-python",
   "name": "python",
   "nbconvert_exporter": "python",
   "pygments_lexer": "ipython3",
   "version": "3.11.10"
  }
 },
 "nbformat": 4,
 "nbformat_minor": 5
}
